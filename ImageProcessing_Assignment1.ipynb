{
 "cells": [
  {
   "cell_type": "markdown",
   "metadata": {},
   "source": [
    "# EC7212 – Computer Vision and Image Processing\n",
    "\n",
    "## Assignment 1 – Image Processing Tasks in Python\n",
    "\n",
    "*Author: <your name>*\n"
   ]
  },
  {
   "cell_type": "markdown",
   "metadata": {},
   "source": [
    "### Common imports & helpers"
   ]
  },
  {
   "cell_type": "code",
   "execution_count": 1,
   "metadata": {},
   "outputs": [],
   "source": [
    "import cv2, os, argparse, numpy as np, matplotlib.pyplot as plt\n",
    "from pathlib import Path\n",
    "\n",
    "# Create results folder if it doesn't exist\n",
    "Path('../results').mkdir(parents=True, exist_ok=True)\n",
    "\n",
    "def show(img, title='', cmap=None):\n",
    "    plt.imshow(img if img.ndim==2 else cv2.cvtColor(img, cv2.COLOR_BGR2RGB), cmap=cmap)\n",
    "    plt.axis('off'); plt.title(title)\n"
   ]
  },
  {
   "cell_type": "markdown",
   "metadata": {},
   "source": [
    "## 1  Intensity-Level Reduction"
   ]
  },
  {
   "cell_type": "code",
   "execution_count": 3,
   "metadata": {},
   "outputs": [
    {
     "ename": "error",
     "evalue": "OpenCV(4.11.0) D:\\a\\opencv-python\\opencv-python\\opencv\\modules\\imgproc\\src\\color.cpp:199: error: (-215:Assertion failed) !_src.empty() in function 'cv::cvtColor'\n",
     "output_type": "error",
     "traceback": [
      "\u001b[1;31m---------------------------------------------------------------------------\u001b[0m",
      "\u001b[1;31merror\u001b[0m                                     Traceback (most recent call last)",
      "Cell \u001b[1;32mIn[3], line 10\u001b[0m\n\u001b[0;32m      8\u001b[0m img_path \u001b[38;5;241m=\u001b[39m \u001b[38;5;124m'\u001b[39m\u001b[38;5;124m../images/sample.jpeg\u001b[39m\u001b[38;5;124m'\u001b[39m\n\u001b[0;32m      9\u001b[0m img \u001b[38;5;241m=\u001b[39m cv2\u001b[38;5;241m.\u001b[39mimread(img_path)\n\u001b[1;32m---> 10\u001b[0m gray \u001b[38;5;241m=\u001b[39m \u001b[43mcv2\u001b[49m\u001b[38;5;241;43m.\u001b[39;49m\u001b[43mcvtColor\u001b[49m\u001b[43m(\u001b[49m\u001b[43mimg\u001b[49m\u001b[43m,\u001b[49m\u001b[43m \u001b[49m\u001b[43mcv2\u001b[49m\u001b[38;5;241;43m.\u001b[39;49m\u001b[43mCOLOR_BGR2GRAY\u001b[49m\u001b[43m)\u001b[49m\n\u001b[0;32m     12\u001b[0m out2  \u001b[38;5;241m=\u001b[39m reduce_levels(gray, \u001b[38;5;241m2\u001b[39m)\n\u001b[0;32m     13\u001b[0m out16 \u001b[38;5;241m=\u001b[39m reduce_levels(gray, \u001b[38;5;241m16\u001b[39m)\n",
      "\u001b[1;31merror\u001b[0m: OpenCV(4.11.0) D:\\a\\opencv-python\\opencv-python\\opencv\\modules\\imgproc\\src\\color.cpp:199: error: (-215:Assertion failed) !_src.empty() in function 'cv::cvtColor'\n"
     ]
    }
   ],
   "source": [
    "def reduce_levels(gray, levels):\n",
    "    if (levels & (levels-1)) or levels<2 or levels>256:\n",
    "        raise ValueError('levels must be a power of 2 in [2,256]')\n",
    "    step = 256 // levels\n",
    "    return (gray // step) * step\n",
    "\n",
    "# Load image (edit path if needed)\n",
    "img_path = '../images/sample.jpeg'\n",
    "img = cv2.imread(img_path)\n",
    "gray = cv2.cvtColor(img, cv2.COLOR_BGR2GRAY)\n",
    "\n",
    "out2  = reduce_levels(gray, 2)\n",
    "out16 = reduce_levels(gray, 16)\n",
    "\n",
    "plt.figure(figsize=(12,3))\n",
    "for i,(im,t) in enumerate([(gray,'Original (256)'),(out2,'2 levels'),(out16,'16 levels')]):\n",
    "    plt.subplot(1,3,i+1); show(im,t,'gray')\n",
    "plt.tight_layout(); plt.savefig('../results/task1_levels.png')"
   ]
  },
  {
   "cell_type": "markdown",
   "metadata": {},
   "source": [
    "## 2  Spatial Averaging Filters"
   ]
  },
  {
   "cell_type": "code",
   "execution_count": null,
   "metadata": {},
   "outputs": [],
   "source": [
    "blur3  = cv2.blur(img,(3,3))\n",
    "blur10 = cv2.blur(img,(10,10))\n",
    "blur20 = cv2.blur(img,(20,20))\n",
    "\n",
    "plt.figure(figsize=(14,3))\n",
    "for i,(im,t) in enumerate([(img,'Original'),(blur3,'3×3'),(blur10,'10×10'),(blur20,'20×20')]):\n",
    "    plt.subplot(1,4,i+1); show(im,t)\n",
    "plt.tight_layout(); plt.savefig('../results/task2_blur.png')"
   ]
  },
  {
   "cell_type": "markdown",
   "metadata": {},
   "source": [
    "## 3  Image Rotation"
   ]
  },
  {
   "cell_type": "code",
   "execution_count": null,
   "metadata": {},
   "outputs": [],
   "source": [
    "h,w = img.shape[:2]; center=(w//2,h//2)\n",
    "rot45 = cv2.warpAffine(img,cv2.getRotationMatrix2D(center,45,1),(w,h))\n",
    "rot90 = cv2.warpAffine(img,cv2.getRotationMatrix2D(center,90,1),(w,h))\n",
    "\n",
    "plt.figure(figsize=(12,3))\n",
    "for i,(im,t) in enumerate([(img,'Original'),(rot45,'45°'),(rot90,'90°')]):\n",
    "    plt.subplot(1,3,i+1); show(im,t)\n",
    "plt.tight_layout(); plt.savefig('../results/task3_rotate.png')"
   ]
  },
  {
   "cell_type": "markdown",
   "metadata": {},
   "source": [
    "## 4  Block Averaging (Pixelation)"
   ]
  },
  {
   "cell_type": "code",
   "execution_count": null,
   "metadata": {},
   "outputs": [],
   "source": [
    "def block_average(im, bs):\n",
    "    out = im.copy(); h,w = im.shape[:2]\n",
    "    for y in range(0,h,bs):\n",
    "        for x in range(0,w,bs):\n",
    "            block = out[y:y+bs,x:x+bs]\n",
    "            mean = block.mean(axis=(0,1),dtype=float)\n",
    "            out[y:y+bs,x:x+bs] = mean\n",
    "    return out\n",
    "\n",
    "pix3 = block_average(img,3)\n",
    "pix5 = block_average(img,5)\n",
    "pix7 = block_average(img,7)\n",
    "\n",
    "plt.figure(figsize=(14,3))\n",
    "for i,(im,t) in enumerate([(img,'Original'),(pix3,'3×3'),(pix5,'5×5'),(pix7,'7×7')]):\n",
    "    plt.subplot(1,4,i+1); show(im,t)\n",
    "plt.tight_layout(); plt.savefig('../results/task4_pixelate.png')"
   ]
  }
 ],
 "metadata": {
  "kernelspec": {
   "display_name": "Python (venv)",
   "language": "python",
   "name": "venv"
  },
  "language_info": {
   "codemirror_mode": {
    "name": "ipython",
    "version": 3
   },
   "file_extension": ".py",
   "mimetype": "text/x-python",
   "name": "python",
   "nbconvert_exporter": "python",
   "pygments_lexer": "ipython3",
   "version": "3.12.0"
  }
 },
 "nbformat": 4,
 "nbformat_minor": 5
}
